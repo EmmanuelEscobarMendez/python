{
  "nbformat": 4,
  "nbformat_minor": 0,
  "metadata": {
    "colab": {
      "name": "Fundamentos.ipynb",
      "provenance": [],
      "collapsed_sections": [],
      "toc_visible": true,
      "authorship_tag": "ABX9TyMMXmiuQ4VRpFqAue6/AdHe",
      "include_colab_link": true
    },
    "kernelspec": {
      "name": "python3",
      "display_name": "Python 3"
    },
    "language_info": {
      "name": "python"
    }
  },
  "cells": [
    {
      "cell_type": "markdown",
      "metadata": {
        "id": "view-in-github",
        "colab_type": "text"
      },
      "source": [
        "<a href=\"https://colab.research.google.com/github/EmmanuelEscobarMendez/python/blob/main/Fundamentos.ipynb\" target=\"_parent\"><img src=\"https://colab.research.google.com/assets/colab-badge.svg\" alt=\"Open In Colab\"/></a>"
      ]
    },
    {
      "cell_type": "markdown",
      "source": [
        "Fundamentos de programacion - Python"
      ],
      "metadata": {
        "id": "1uW8gCixXcnQ"
      }
    },
    {
      "cell_type": "code",
      "execution_count": null,
      "metadata": {
        "colab": {
          "base_uri": "https://localhost:8080/"
        },
        "id": "bRELN620LOCa",
        "outputId": "12f874fb-59d9-4036-842c-0ae03b7dc905"
      },
      "outputs": [
        {
          "output_type": "stream",
          "name": "stdout",
          "text": [
            "Querido profesor el resultado es:  57\n"
          ]
        }
      ],
      "source": [
        "x = 15\n",
        "y = 42\n",
        "z =(x + y)\n",
        "print('Querido profesor el resultado es: ',z)\n"
      ]
    },
    {
      "cell_type": "markdown",
      "source": [
        "Comentarios:\n"
      ],
      "metadata": {
        "id": "sPTMPXdLZ-dm"
      }
    },
    {
      "cell_type": "code",
      "source": [
        ""
      ],
      "metadata": {
        "id": "UAdSJKzkbpV8"
      },
      "execution_count": null,
      "outputs": []
    },
    {
      "cell_type": "code",
      "source": [
        "#Comentarios con una sola linea de código\n",
        "\n",
        "\"\"\"Esto es un comentario\n",
        "de varias lineas\n",
        "de codigo para que\n",
        "no se nos olvide\n",
        "que estamos haciendo\"\"\""
      ],
      "metadata": {
        "colab": {
          "base_uri": "https://localhost:8080/",
          "height": 35
        },
        "id": "ed5lahbeaKyV",
        "outputId": "b67262d2-09a3-4aed-e8c5-924c3fd38b02"
      },
      "execution_count": null,
      "outputs": [
        {
          "output_type": "execute_result",
          "data": {
            "text/plain": [
              "'Esto es un comentario\\nde varias lineas\\nde codigo para que\\nno se nos olvide\\nque estamos haciendo'"
            ],
            "application/vnd.google.colaboratory.intrinsic+json": {
              "type": "string"
            }
          },
          "metadata": {},
          "execution_count": 3
        }
      ]
    },
    {
      "cell_type": "markdown",
      "source": [
        "Palabra reservada print()"
      ],
      "metadata": {
        "id": "n53lnVgZbg_s"
      }
    },
    {
      "cell_type": "code",
      "source": [
        "#Imprimir en pantalla\n",
        "\n",
        "print(\"Este es nuestro primer programa en\")\n",
        "print('***********PYTHON***************')"
      ],
      "metadata": {
        "colab": {
          "base_uri": "https://localhost:8080/"
        },
        "id": "2P_gcrQQbvTk",
        "outputId": "b77c7105-46f5-46e7-cd7b-90226af5dcc4"
      },
      "execution_count": null,
      "outputs": [
        {
          "output_type": "stream",
          "name": "stdout",
          "text": [
            "Este es nuestro primer programa en\n",
            "***********PYTHON***************\n"
          ]
        }
      ]
    },
    {
      "cell_type": "markdown",
      "source": [
        "Tipos de Datos"
      ],
      "metadata": {
        "id": "JWYMsZX7dXXD"
      }
    },
    {
      "cell_type": "code",
      "source": [
        "x = 15     #Entero = int\n",
        "y = 42.5     #Flotante = float\n",
        "a = \"El resultado es: \" #String = str\n",
        "z =(x + y)\n",
        "print(a,z)\n",
        "print(\"***************Palabra reservada type()********\")\n",
        "\n",
        "print(\"tipo de dato x\", x, \":\", type(x))\n",
        "print(\"tipo de dato y\", y, \":\", type(y))\n",
        "print(\"tipo de dato a\", a, \":\", type(a))\n",
        "print(\"tipo de dato z\", z, \":\", type(z))\n",
        "print(\"****************Mas facilito********************\")\n",
        "print(f\"Tipo de dato x {x} : {type (x)}\")\n",
        "print(f\"Tipo de dato y {y} : {type (y)}\")\n",
        "print(f\"Tipo de dato a {a} : {type (a)}\")\n",
        "print(f\"Tipo de dato z {z} : {type (z)}\")\n",
        "\n",
        "#Tipo de datos Cadena de caracteres - string\n",
        "nom_aprendiz = \"Emmanuel \"\n",
        "ape_aprendiz = \"Escobar \"\n",
        "correo_electronico = \"emuel@misena.edu.co\"\n",
        "print(f\"El aprendiz se llama {nom_aprendiz}{ape_aprendiz} y su email es {correo_electronico}\")\n",
        "\n",
        "#Tipo de datos Booleanos\n",
        "estado = True\n",
        "estado_falso = False\n",
        "print(f\"Tipo de dato estado {estado} : {type (estado)}\")\n",
        "print(f\"Tipo de dato estado_falso {estado_falso} : {type (estado_falso)}\")"
      ],
      "metadata": {
        "colab": {
          "base_uri": "https://localhost:8080/"
        },
        "id": "u_wYKFKgdeE6",
        "outputId": "44c109d0-1966-4eef-bc0b-232d2ded4aee"
      },
      "execution_count": null,
      "outputs": [
        {
          "output_type": "stream",
          "name": "stdout",
          "text": [
            "El resultado es:  57.5\n",
            "***************Palabra reservada type()********\n",
            "tipo de dato x 15 : <class 'int'>\n",
            "tipo de dato y 42.5 : <class 'float'>\n",
            "tipo de dato a El resultado es:  : <class 'str'>\n",
            "tipo de dato z 57.5 : <class 'float'>\n",
            "****************Mas facilito********************\n",
            "Tipo de dato x 15 : <class 'int'>\n",
            "Tipo de dato y 42.5 : <class 'float'>\n",
            "Tipo de dato a El resultado es:  : <class 'str'>\n",
            "Tipo de dato z 57.5 : <class 'float'>\n",
            "El aprendiz se llama Emmanuel Escobar  y su email es emuel@misena.edu.co\n",
            "Tipo de dato estado True : <class 'bool'>\n",
            "Tipo de dato estado_falso False : <class 'bool'>\n"
          ]
        }
      ]
    },
    {
      "cell_type": "markdown",
      "source": [
        "SueldoOperarioBasico"
      ],
      "metadata": {
        "id": "1Ydxx7-JmqPz"
      }
    },
    {
      "cell_type": "code",
      "source": [
        "# Palabra reservada input()\n",
        "# int() ó float()cuando capturemos un dato por teclado y que se requiera hacer operaciones aritmeticas\n",
        "\n",
        "#Entrada de datos\n",
        "sueldo = float(input(\"Registre el valor de la hora del operario: \"))\n",
        "horas_trab = int(input(\"Registre las horas trabajadas: \"))\n",
        "\n",
        "#Operaciones\n",
        "SueldoMen = (sueldo * horas_trab)\n",
        "\n",
        "#Sallida\n",
        "print (f\"El valor hora: {sueldo}*{horas_trab} horas trabajadas: {SueldoMen}\")"
      ],
      "metadata": {
        "colab": {
          "base_uri": "https://localhost:8080/"
        },
        "id": "DKfMcASXmwTD",
        "outputId": "d103decd-a602-4ec8-d888-a2e16c61dbd9"
      },
      "execution_count": null,
      "outputs": [
        {
          "output_type": "stream",
          "name": "stdout",
          "text": [
            "Registre el valor de la hora del operario: 45\n",
            "Registre las horas trabajadas: 15000\n",
            "El valor hora: 45.0*15000 horas trabajadas: 675000.0\n"
          ]
        }
      ]
    },
    {
      "cell_type": "markdown",
      "source": [
        "Ejercicios Prácticos:\n",
        "\n",
        "Temas: Input(), print(), operaciones, int(), float(), str()\n",
        "\n",
        "Realizar la carga del lado de un cuadrado, mostrar por pantalla el perímetro del mismo (El perímetro de un cuadrado se calcula multiplicando el valor del lado por cuatro)."
      ],
      "metadata": {
        "id": "0GNWl-uoyRwd"
      }
    },
    {
      "cell_type": "code",
      "source": [
        "Lado_cuadrado = float(input(\"Ingrese el valor del lado del cuadrado: \"))\n",
        "\n",
        "per= (4*Lado_cuadrado)\n",
        "print('el perimetro del cuadrado es: ')\n",
        "print(per)\n"
      ],
      "metadata": {
        "colab": {
          "base_uri": "https://localhost:8080/"
        },
        "id": "ZvALthdLz5Y1",
        "outputId": "edfe7e76-6d65-498c-cf24-07ad0183ab50"
      },
      "execution_count": null,
      "outputs": [
        {
          "output_type": "stream",
          "name": "stdout",
          "text": [
            "Ingrese el valor del lado del cuadrado: 5\n",
            "el perimetro del cuadrado es: \n",
            "20.0\n"
          ]
        }
      ]
    },
    {
      "cell_type": "markdown",
      "source": [
        ""
      ],
      "metadata": {
        "id": "GS3Yeimqebd9"
      }
    },
    {
      "cell_type": "markdown",
      "source": [
        "Escribir un programa en el cual se ingresen cuatro números, calcular e informar la suma de los dos primeros y el producto del tercero y el cuarto.\n"
      ],
      "metadata": {
        "id": "MNF77Q0ik1vw"
      }
    },
    {
      "cell_type": "code",
      "source": [
        "\n",
        "#Entrada de datos\n",
        "num1=float(input(\"ingrese el primer valor: \"))\n",
        "num2=float(input(\"ingrese el segundo valor: \"))\n",
        "num3=float(input(\"ingrese el tercer valor: \"))\n",
        "num4=float(input(\"ingrese el cuarto valor: \"))\n",
        "\n",
        "suma = (num1 + num2)\n",
        "producto = (num3 * num4)\n",
        "print(f\"La suma de {num1} + {num2}es: \",suma)\n",
        "print(f\"El producto de {num3} * {num4}es: \",producto)\n"
      ],
      "metadata": {
        "colab": {
          "base_uri": "https://localhost:8080/"
        },
        "id": "9_K0-7lTiNtS",
        "outputId": "acbeedba-1184-4b5c-c6f2-2f4051b0ffc7"
      },
      "execution_count": null,
      "outputs": [
        {
          "output_type": "stream",
          "name": "stdout",
          "text": [
            "ingrese el primer valor: 45\n",
            "ingrese el segundo valor: 45\n",
            "ingrese el tercer valor: 45\n",
            "ingrese el cuarto valor: 45\n",
            "La suma de los dos primeros valores es:  90.0\n",
            "El producto de los dos segundos valores es:  2025.0\n"
          ]
        }
      ]
    },
    {
      "cell_type": "markdown",
      "source": [
        "Realizar la carga de cuatro nombres de personas distintos. Mostrar por pantalla luego ordenados en forma alfabética, descendientes y ascendientes."
      ],
      "metadata": {
        "id": "PveX7xMulNAP"
      }
    },
    {
      "cell_type": "code",
      "source": [
        "#Ciclo FOR\n",
        "\n",
        "nombre1 = str(input(\"ingrese el primer nombre: \"))\n",
        "nombre2 = str(input(\"ingrese el primer nombre: \"))\n",
        "nombre3 = str(input(\"ingrese el primer nombre: \"))\n",
        "nombre4 = str(input(\"ingrese el primer nombre: \"))\n",
        "nombre5 = str(input(\"ingrese el primer nombre: \"))\n",
        "nombre6 = str(input(\"ingrese el primer nombre: \"))\n",
        "\n",
        "nombre = [nombre1, nombre2, nombre3, nombre4, nombre5, nombre6]\n",
        "\n",
        "nom_list = nombre\n",
        "print('Imprimir los nombres ingresados: ')\n",
        "for nombre in nom_list:\n",
        "  print('Desordenados: ',nombre)\n",
        "\n",
        "nom_list.sort()\n",
        "\n",
        "print('**********************************')\n",
        "print('Imprimir los nombres ordenados descendente')\n",
        "for nombre in nom_list:\n",
        "  print ('Ordenados: ',nombre)\n",
        "\n",
        "nom_list.sort(reverse=True)\n",
        "\n",
        "print('**********************************')\n",
        "print('Imprimir los nombres ordenados Ascendente')\n",
        "for nombre in nom_list:\n",
        "  print ('Ordenados: ',nombre)\n",
        "\n",
        "  #nom_list.sort(reverse=True)"
      ],
      "metadata": {
        "colab": {
          "base_uri": "https://localhost:8080/"
        },
        "id": "6ROjSsvil2D3",
        "outputId": "94c067ed-fbb2-4b73-f1b1-48d0e49e678d"
      },
      "execution_count": null,
      "outputs": [
        {
          "output_type": "stream",
          "name": "stdout",
          "text": [
            "ingrese el primer nombre: E\n",
            "ingrese el primer nombre: R\n",
            "ingrese el primer nombre: T\n",
            "ingrese el primer nombre: Y\n",
            "ingrese el primer nombre: U\n",
            "ingrese el primer nombre: J\n",
            "Imprimir los nombres ingresados: \n",
            "Desordenados:  E\n",
            "Desordenados:  R\n",
            "Desordenados:  T\n",
            "Desordenados:  Y\n",
            "Desordenados:  U\n",
            "Desordenados:  J\n",
            "**********************************\n",
            "Imprimir los nombres ordenados descendente\n",
            "Ordenados:  E\n",
            "Ordenados:  J\n",
            "Ordenados:  R\n",
            "Ordenados:  T\n",
            "Ordenados:  U\n",
            "Ordenados:  Y\n",
            "**********************************\n",
            "Imprimir los nombres ordenados Ascendente\n",
            "Ordenados:  Y\n",
            "Ordenados:  U\n",
            "Ordenados:  T\n",
            "Ordenados:  R\n",
            "Ordenados:  J\n",
            "Ordenados:  E\n"
          ]
        }
      ]
    },
    {
      "cell_type": "markdown",
      "source": [
        "Realizar la carga de dos nombres de personas distintos. Mostrar por pantalla luego ordenados en forma alfabética.\n"
      ],
      "metadata": {
        "id": "bST-v8C-ZP6P"
      }
    },
    {
      "cell_type": "code",
      "source": [
        "nombre1 = str(input(\"ingrese el primer nombre: \"))\n",
        "nombre2 = str(input(\"ingrese el primer nombre: \"))\n",
        "\n",
        "nombres = [nombre1, nombre2]\n",
        "nombres.sort()\n",
        "print (nombres)\n"
      ],
      "metadata": {
        "colab": {
          "base_uri": "https://localhost:8080/"
        },
        "id": "fI9jdI8gZZEW",
        "outputId": "acbc52cb-1ac7-495b-e9cc-7e5e9a4d1e47"
      },
      "execution_count": 3,
      "outputs": [
        {
          "output_type": "stream",
          "name": "stdout",
          "text": [
            "ingrese el primer nombre: alba\n",
            "ingrese el primer nombre: pepe\n",
            "['alba', 'pepe']\n"
          ]
        }
      ]
    }
  ]
}